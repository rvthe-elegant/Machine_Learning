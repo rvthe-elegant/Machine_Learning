{
 "cells": [
  {
   "cell_type": "markdown",
   "metadata": {},
   "source": [
    "# TASK2"
   ]
  },
  {
   "cell_type": "code",
   "execution_count": 31,
   "metadata": {},
   "outputs": [],
   "source": [
    "import  numpy as np\n",
    "import pandas as pd\n",
    "import warnings"
   ]
  },
  {
   "cell_type": "code",
   "execution_count": 32,
   "metadata": {},
   "outputs": [],
   "source": [
    "#importing dataset\n",
    "data2 =pd.read_csv(r\"E:\\PG SECOND SEM\\ML\\loan.csv\")"
   ]
  },
  {
   "cell_type": "code",
   "execution_count": 33,
   "metadata": {},
   "outputs": [
    {
     "data": {
      "text/plain": [
       "(10000, 14)"
      ]
     },
     "execution_count": 33,
     "metadata": {},
     "output_type": "execute_result"
    }
   ],
   "source": [
    "data2.shape"
   ]
  },
  {
   "cell_type": "code",
   "execution_count": 34,
   "metadata": {},
   "outputs": [
    {
     "data": {
      "text/html": [
       "<div>\n",
       "<style scoped>\n",
       "    .dataframe tbody tr th:only-of-type {\n",
       "        vertical-align: middle;\n",
       "    }\n",
       "\n",
       "    .dataframe tbody tr th {\n",
       "        vertical-align: top;\n",
       "    }\n",
       "\n",
       "    .dataframe thead th {\n",
       "        text-align: right;\n",
       "    }\n",
       "</style>\n",
       "<table border=\"1\" class=\"dataframe\">\n",
       "  <thead>\n",
       "    <tr style=\"text-align: right;\">\n",
       "      <th></th>\n",
       "      <th>customer_id</th>\n",
       "      <th>disbursed_amount</th>\n",
       "      <th>interest</th>\n",
       "      <th>market</th>\n",
       "      <th>employment</th>\n",
       "      <th>time_employed</th>\n",
       "      <th>householder</th>\n",
       "      <th>income</th>\n",
       "      <th>date_issued</th>\n",
       "      <th>target</th>\n",
       "      <th>loan_purpose</th>\n",
       "      <th>number_open_accounts</th>\n",
       "      <th>date_last_payment</th>\n",
       "      <th>number_credit_lines_12</th>\n",
       "    </tr>\n",
       "  </thead>\n",
       "  <tbody>\n",
       "    <tr>\n",
       "      <th>0</th>\n",
       "      <td>0</td>\n",
       "      <td>23201.5</td>\n",
       "      <td>15.4840</td>\n",
       "      <td>C</td>\n",
       "      <td>Teacher</td>\n",
       "      <td>&lt;=5 years</td>\n",
       "      <td>RENT</td>\n",
       "      <td>84600.0</td>\n",
       "      <td>2013-06-11</td>\n",
       "      <td>0</td>\n",
       "      <td>Debt consolidation</td>\n",
       "      <td>4.0</td>\n",
       "      <td>2016-01-14</td>\n",
       "      <td>NaN</td>\n",
       "    </tr>\n",
       "    <tr>\n",
       "      <th>1</th>\n",
       "      <td>1</td>\n",
       "      <td>7425.0</td>\n",
       "      <td>11.2032</td>\n",
       "      <td>B</td>\n",
       "      <td>Accountant</td>\n",
       "      <td>&lt;=5 years</td>\n",
       "      <td>OWNER</td>\n",
       "      <td>102000.0</td>\n",
       "      <td>2014-05-08</td>\n",
       "      <td>0</td>\n",
       "      <td>Car purchase</td>\n",
       "      <td>13.0</td>\n",
       "      <td>2016-01-25</td>\n",
       "      <td>NaN</td>\n",
       "    </tr>\n",
       "    <tr>\n",
       "      <th>2</th>\n",
       "      <td>2</td>\n",
       "      <td>11150.0</td>\n",
       "      <td>8.5100</td>\n",
       "      <td>A</td>\n",
       "      <td>Statistician</td>\n",
       "      <td>&lt;=5 years</td>\n",
       "      <td>RENT</td>\n",
       "      <td>69840.0</td>\n",
       "      <td>2013-10-26</td>\n",
       "      <td>0</td>\n",
       "      <td>Debt consolidation</td>\n",
       "      <td>8.0</td>\n",
       "      <td>2014-09-26</td>\n",
       "      <td>NaN</td>\n",
       "    </tr>\n",
       "    <tr>\n",
       "      <th>3</th>\n",
       "      <td>3</td>\n",
       "      <td>7600.0</td>\n",
       "      <td>5.8656</td>\n",
       "      <td>A</td>\n",
       "      <td>Other</td>\n",
       "      <td>&lt;=5 years</td>\n",
       "      <td>RENT</td>\n",
       "      <td>100386.0</td>\n",
       "      <td>2015-08-20</td>\n",
       "      <td>0</td>\n",
       "      <td>Debt consolidation</td>\n",
       "      <td>20.0</td>\n",
       "      <td>2016-01-26</td>\n",
       "      <td>NaN</td>\n",
       "    </tr>\n",
       "    <tr>\n",
       "      <th>4</th>\n",
       "      <td>4</td>\n",
       "      <td>31960.0</td>\n",
       "      <td>18.7392</td>\n",
       "      <td>E</td>\n",
       "      <td>Bus driver</td>\n",
       "      <td>&gt;5 years</td>\n",
       "      <td>RENT</td>\n",
       "      <td>95040.0</td>\n",
       "      <td>2014-07-22</td>\n",
       "      <td>0</td>\n",
       "      <td>Debt consolidation</td>\n",
       "      <td>14.0</td>\n",
       "      <td>2016-01-11</td>\n",
       "      <td>NaN</td>\n",
       "    </tr>\n",
       "  </tbody>\n",
       "</table>\n",
       "</div>"
      ],
      "text/plain": [
       "   customer_id  disbursed_amount  interest market    employment time_employed  \\\n",
       "0            0           23201.5   15.4840      C       Teacher     <=5 years   \n",
       "1            1            7425.0   11.2032      B    Accountant     <=5 years   \n",
       "2            2           11150.0    8.5100      A  Statistician     <=5 years   \n",
       "3            3            7600.0    5.8656      A         Other     <=5 years   \n",
       "4            4           31960.0   18.7392      E    Bus driver      >5 years   \n",
       "\n",
       "  householder    income date_issued  target        loan_purpose  \\\n",
       "0        RENT   84600.0  2013-06-11       0  Debt consolidation   \n",
       "1       OWNER  102000.0  2014-05-08       0        Car purchase   \n",
       "2        RENT   69840.0  2013-10-26       0  Debt consolidation   \n",
       "3        RENT  100386.0  2015-08-20       0  Debt consolidation   \n",
       "4        RENT   95040.0  2014-07-22       0  Debt consolidation   \n",
       "\n",
       "   number_open_accounts date_last_payment  number_credit_lines_12  \n",
       "0                   4.0        2016-01-14                     NaN  \n",
       "1                  13.0        2016-01-25                     NaN  \n",
       "2                   8.0        2014-09-26                     NaN  \n",
       "3                  20.0        2016-01-26                     NaN  \n",
       "4                  14.0        2016-01-11                     NaN  "
      ]
     },
     "execution_count": 34,
     "metadata": {},
     "output_type": "execute_result"
    }
   ],
   "source": [
    "data2.head()"
   ]
  },
  {
   "cell_type": "code",
   "execution_count": 35,
   "metadata": {},
   "outputs": [
    {
     "name": "stdout",
     "output_type": "stream",
     "text": [
      "continuous variables\n",
      "['customer_id', 'disbursed_amount', 'interest', 'income', 'target', 'number_open_accounts', 'number_credit_lines_12']\n",
      "Mean of Disbursed amount\n",
      "14132.2755\n",
      "Mean of Interest amount\n",
      "12.678819440000039\n"
     ]
    }
   ],
   "source": [
    "#Mean of two continuous variables\n",
    "print(\"continuous variables\")\n",
    "continuous_value=[c for c in data2.columns if data2[c].dtype!='O']\n",
    "print(continuous_value)\n",
    "print('Mean of Disbursed amount')\n",
    "print(data2['disbursed_amount'].mean())\n",
    "print('Mean of Interest amount')\n",
    "print(data2['interest'].mean())"
   ]
  },
  {
   "cell_type": "code",
   "execution_count": 36,
   "metadata": {},
   "outputs": [
    {
     "data": {
      "text/plain": [
       "customer_id                 int64\n",
       "disbursed_amount          float64\n",
       "interest                  float64\n",
       "market                     object\n",
       "employment                 object\n",
       "time_employed              object\n",
       "householder                object\n",
       "income                    float64\n",
       "date_issued                object\n",
       "target                      int64\n",
       "loan_purpose               object\n",
       "number_open_accounts      float64\n",
       "date_last_payment          object\n",
       "number_credit_lines_12    float64\n",
       "dtype: object"
      ]
     },
     "execution_count": 36,
     "metadata": {},
     "output_type": "execute_result"
    }
   ],
   "source": [
    "data2.dtypes"
   ]
  },
  {
   "cell_type": "code",
   "execution_count": 37,
   "metadata": {},
   "outputs": [
    {
     "name": "stdout",
     "output_type": "stream",
     "text": [
      "Discrete Variables\n",
      "['market', 'employment', 'time_employed', 'householder', 'date_issued', 'loan_purpose', 'date_last_payment']\n",
      "Number of Discrete Variables are  7\n"
     ]
    }
   ],
   "source": [
    "#Print the number of discrete variables\n",
    "print(\"Discrete Variables\")\n",
    "categoric_value=[c for c in data2.columns if data2[c].dtype=='O']\n",
    "print(categoric_value)\n",
    "print(\"Number of Discrete Variables are \",len(categoric_value))"
   ]
  },
  {
   "cell_type": "code",
   "execution_count": 38,
   "metadata": {},
   "outputs": [
    {
     "name": "stdout",
     "output_type": "stream",
     "text": [
      "The unique values in market column are  ['RENT' 'OWNER' 'MORTGAGE']\n",
      "The unique values in employment column are  ['Debt consolidation' 'Car purchase' 'Other' 'Home improvements'\n",
      " 'Moving home' 'Health' 'Holidays' 'Wedding']\n"
     ]
    }
   ],
   "source": [
    "#Display the unique values of two variables with discrete values\n",
    "print(\"The unique values in market column are \",data2['householder'].unique())\n",
    "print(\"The unique values in employment column are \",data2['loan_purpose'].unique())"
   ]
  },
  {
   "cell_type": "code",
   "execution_count": 39,
   "metadata": {},
   "outputs": [
    {
     "name": "stdout",
     "output_type": "stream",
     "text": [
      "date_issued    datetime64[ns]\n",
      "dtype: object\n"
     ]
    }
   ],
   "source": [
    "#4.Question 4\n",
    "data2['date_issued']=pd.to_datetime(data2['date_issued']) #change to date typedata\n",
    "print(data2[['date_issued']].dtypes)"
   ]
  },
  {
   "cell_type": "code",
   "execution_count": 40,
   "metadata": {},
   "outputs": [
    {
     "data": {
      "text/plain": [
       "0        6\n",
       "1        5\n",
       "2       10\n",
       "3        8\n",
       "4        7\n",
       "        ..\n",
       "9995     1\n",
       "9996     3\n",
       "9997     4\n",
       "9998    11\n",
       "9999     1\n",
       "Name: month_issued, Length: 10000, dtype: int64"
      ]
     },
     "execution_count": 40,
     "metadata": {},
     "output_type": "execute_result"
    }
   ],
   "source": [
    "#Getting the count of the month\n",
    "data2['month_issued']=data2['date_issued'].dt.month\n",
    "data2['month_issued']"
   ]
  },
  {
   "cell_type": "code",
   "execution_count": 41,
   "metadata": {},
   "outputs": [
    {
     "name": "stderr",
     "output_type": "stream",
     "text": [
      "<ipython-input-41-1bdbbf796a68>:13: SettingWithCopyWarning: \n",
      "A value is trying to be set on a copy of a slice from a DataFrame\n",
      "\n",
      "See the caveats in the documentation: https://pandas.pydata.org/pandas-docs/stable/user_guide/indexing.html#returning-a-view-versus-a-copy\n",
      "  data2['month_issued'][x]='Jun'\n",
      "C:\\Users\\DELL\\anaconda3\\lib\\site-packages\\pandas\\core\\indexing.py:671: SettingWithCopyWarning: \n",
      "A value is trying to be set on a copy of a slice from a DataFrame\n",
      "\n",
      "See the caveats in the documentation: https://pandas.pydata.org/pandas-docs/stable/user_guide/indexing.html#returning-a-view-versus-a-copy\n",
      "  self._setitem_with_indexer(indexer, value)\n",
      "<ipython-input-41-1bdbbf796a68>:11: SettingWithCopyWarning: \n",
      "A value is trying to be set on a copy of a slice from a DataFrame\n",
      "\n",
      "See the caveats in the documentation: https://pandas.pydata.org/pandas-docs/stable/user_guide/indexing.html#returning-a-view-versus-a-copy\n",
      "  data2['month_issued'][x]='May'\n",
      "<ipython-input-41-1bdbbf796a68>:21: SettingWithCopyWarning: \n",
      "A value is trying to be set on a copy of a slice from a DataFrame\n",
      "\n",
      "See the caveats in the documentation: https://pandas.pydata.org/pandas-docs/stable/user_guide/indexing.html#returning-a-view-versus-a-copy\n",
      "  data2['month_issued'][x]='Oct'\n",
      "<ipython-input-41-1bdbbf796a68>:17: SettingWithCopyWarning: \n",
      "A value is trying to be set on a copy of a slice from a DataFrame\n",
      "\n",
      "See the caveats in the documentation: https://pandas.pydata.org/pandas-docs/stable/user_guide/indexing.html#returning-a-view-versus-a-copy\n",
      "  data2['month_issued'][x]='Aug'\n",
      "<ipython-input-41-1bdbbf796a68>:15: SettingWithCopyWarning: \n",
      "A value is trying to be set on a copy of a slice from a DataFrame\n",
      "\n",
      "See the caveats in the documentation: https://pandas.pydata.org/pandas-docs/stable/user_guide/indexing.html#returning-a-view-versus-a-copy\n",
      "  data2['month_issued'][x]='Jul'\n",
      "<ipython-input-41-1bdbbf796a68>:19: SettingWithCopyWarning: \n",
      "A value is trying to be set on a copy of a slice from a DataFrame\n",
      "\n",
      "See the caveats in the documentation: https://pandas.pydata.org/pandas-docs/stable/user_guide/indexing.html#returning-a-view-versus-a-copy\n",
      "  data2['month_issued'][x]='Sep'\n",
      "<ipython-input-41-1bdbbf796a68>:7: SettingWithCopyWarning: \n",
      "A value is trying to be set on a copy of a slice from a DataFrame\n",
      "\n",
      "See the caveats in the documentation: https://pandas.pydata.org/pandas-docs/stable/user_guide/indexing.html#returning-a-view-versus-a-copy\n",
      "  data2['month_issued'][x]='Mar'\n",
      "<ipython-input-41-1bdbbf796a68>:5: SettingWithCopyWarning: \n",
      "A value is trying to be set on a copy of a slice from a DataFrame\n",
      "\n",
      "See the caveats in the documentation: https://pandas.pydata.org/pandas-docs/stable/user_guide/indexing.html#returning-a-view-versus-a-copy\n",
      "  data2['month_issued'][x]='Feb'\n",
      "<ipython-input-41-1bdbbf796a68>:25: SettingWithCopyWarning: \n",
      "A value is trying to be set on a copy of a slice from a DataFrame\n",
      "\n",
      "See the caveats in the documentation: https://pandas.pydata.org/pandas-docs/stable/user_guide/indexing.html#returning-a-view-versus-a-copy\n",
      "  data2['month_issued'][x]='Dec'\n",
      "<ipython-input-41-1bdbbf796a68>:23: SettingWithCopyWarning: \n",
      "A value is trying to be set on a copy of a slice from a DataFrame\n",
      "\n",
      "See the caveats in the documentation: https://pandas.pydata.org/pandas-docs/stable/user_guide/indexing.html#returning-a-view-versus-a-copy\n",
      "  data2['month_issued'][x]='Nov'\n",
      "<ipython-input-41-1bdbbf796a68>:9: SettingWithCopyWarning: \n",
      "A value is trying to be set on a copy of a slice from a DataFrame\n",
      "\n",
      "See the caveats in the documentation: https://pandas.pydata.org/pandas-docs/stable/user_guide/indexing.html#returning-a-view-versus-a-copy\n",
      "  data2['month_issued'][x]='Apr'\n",
      "<ipython-input-41-1bdbbf796a68>:3: SettingWithCopyWarning: \n",
      "A value is trying to be set on a copy of a slice from a DataFrame\n",
      "\n",
      "See the caveats in the documentation: https://pandas.pydata.org/pandas-docs/stable/user_guide/indexing.html#returning-a-view-versus-a-copy\n",
      "  data2['month_issued'][x]='Jan'\n"
     ]
    }
   ],
   "source": [
    "for x in range(10000):\n",
    "    if data2['month_issued'][x]==1:\n",
    "        data2['month_issued'][x]='Jan'\n",
    "    elif data2['month_issued'][x]==2:\n",
    "        data2['month_issued'][x]='Feb'\n",
    "    elif data2['month_issued'][x]==3:\n",
    "        data2['month_issued'][x]='Mar'\n",
    "    elif data2['month_issued'][x]==4:\n",
    "        data2['month_issued'][x]='Apr'\n",
    "    elif data2['month_issued'][x]==5:\n",
    "        data2['month_issued'][x]='May'\n",
    "    elif data2['month_issued'][x]==6:\n",
    "        data2['month_issued'][x]='Jun'\n",
    "    elif data2['month_issued'][x]==7:\n",
    "        data2['month_issued'][x]='Jul'\n",
    "    elif data2['month_issued'][x]==8:\n",
    "        data2['month_issued'][x]='Aug'\n",
    "    elif data2['month_issued'][x]==9:\n",
    "        data2['month_issued'][x]='Sep'\n",
    "    elif data2['month_issued'][x]==10:\n",
    "        data2['month_issued'][x]='Oct'\n",
    "    elif data2['month_issued'][x]==11:\n",
    "        data2['month_issued'][x]='Nov'\n",
    "    elif data2['month_issued'][x]==12:\n",
    "        data2['month_issued'][x]='Dec'"
   ]
  },
  {
   "cell_type": "code",
   "execution_count": 16,
   "metadata": {},
   "outputs": [
    {
     "data": {
      "text/plain": [
       "{'Oct': 1277,\n",
       " 'Jul': 1066,\n",
       " 'Nov': 1017,\n",
       " 'Dec': 882,\n",
       " 'Aug': 852,\n",
       " 'Apr': 816,\n",
       " 'May': 749,\n",
       " 'Sep': 734,\n",
       " 'Jan': 700,\n",
       " 'Jun': 700,\n",
       " 'Mar': 623,\n",
       " 'Feb': 584}"
      ]
     },
     "execution_count": 16,
     "metadata": {},
     "output_type": "execute_result"
    }
   ],
   "source": [
    "#Converting into dictionary\n",
    "data2['month_issued']\n",
    "data2['month_issued'].value_counts()\n",
    "month_issuesd_dict=data2['month_issued'].value_counts().to_dict()\n",
    "month_issuesd_dict"
   ]
  },
  {
   "cell_type": "code",
   "execution_count": 18,
   "metadata": {},
   "outputs": [
    {
     "name": "stdout",
     "output_type": "stream",
     "text": [
      "Month in which maximum number of loan issued is Oct\n",
      " Number of issues loan on that month is  1277\n"
     ]
    }
   ],
   "source": [
    "#4. Display the Month with most of loans issued date\n",
    "# function to return key for any value in a dictionary\n",
    "\n",
    "def get_key(val):\n",
    "    for key, value in month_issuesd_dict.items():\n",
    "         if val == value:\n",
    "             return key\n",
    "    return \"key doesn't exist\"\n",
    "max_issues=max(data2['month_issued'].value_counts())\n",
    "print(\"Month in which maximum number of loan issued is\",get_key(max_issues))\n",
    "print(\" Number of issues loan on that month is \",max_issues)"
   ]
  },
  {
   "cell_type": "code",
   "execution_count": 20,
   "metadata": {},
   "outputs": [
    {
     "data": {
      "text/plain": [
       "Civil Servant         884\n",
       "Nurse                 880\n",
       "Bus driver            874\n",
       "Other                 863\n",
       "Teacher               861\n",
       "Statistician          852\n",
       "Accountant            852\n",
       "Secretary             846\n",
       "Dentist               844\n",
       "Taxi driver           825\n",
       "Software developer    808\n",
       "Name: employment, dtype: int64"
      ]
     },
     "execution_count": 20,
     "metadata": {},
     "output_type": "execute_result"
    }
   ],
   "source": [
    "#Qustion number 5\n",
    "data2['employment'].value_counts()"
   ]
  },
  {
   "cell_type": "code",
   "execution_count": 21,
   "metadata": {},
   "outputs": [],
   "source": [
    "data_emp=data2['employment'].value_counts()"
   ]
  },
  {
   "cell_type": "code",
   "execution_count": 22,
   "metadata": {},
   "outputs": [
    {
     "name": "stdout",
     "output_type": "stream",
     "text": [
      "Number of owners who have Teacher profesion is  861\n"
     ]
    }
   ],
   "source": [
    "#5. Display the count of ‘Teacher’ who are ‘Owners\n",
    "#Converting into dictionary\n",
    "data_emp_dict=data_emp.to_dict()\n",
    "data_emp_dict\n",
    "print(\"Number of owners who have Teacher profesion is \",data_emp_dict['Teacher'])"
   ]
  },
  {
   "cell_type": "code",
   "execution_count": 24,
   "metadata": {},
   "outputs": [
    {
     "data": {
      "text/plain": [
       "pandas.core.series.Series"
      ]
     },
     "execution_count": 24,
     "metadata": {},
     "output_type": "execute_result"
    }
   ],
   "source": [
    "#6. Display the ‘Employment’ of customers who mostly ‘Rent'\n",
    "type(data2['employment'])"
   ]
  },
  {
   "cell_type": "code",
   "execution_count": 26,
   "metadata": {},
   "outputs": [
    {
     "data": {
      "text/plain": [
       "tuple"
      ]
     },
     "execution_count": 26,
     "metadata": {},
     "output_type": "execute_result"
    }
   ],
   "source": [
    "empl=data2['employment'].to_list()\n",
    "type(data2.shape)"
   ]
  },
  {
   "cell_type": "code",
   "execution_count": 29,
   "metadata": {},
   "outputs": [],
   "source": [
    "on_rent=[]\n",
    "for i in range(data2.shape[0]):\n",
    "    if data2['householder'][i]=='RENT':\n",
    "        on_rent.append(empl[i])"
   ]
  },
  {
   "cell_type": "code",
   "execution_count": 30,
   "metadata": {},
   "outputs": [
    {
     "name": "stdout",
     "output_type": "stream",
     "text": [
      "{'Teacher': 371, 'Statistician': 342, 'Other': 353, 'Bus driver': 360, 'Secretary': 355, 'Software developer': 315, 'Nurse': 358, 'Accountant': 322, 'Civil Servant': 371, 'Dentist': 355, 'Taxi driver': 316, nan: 237}\n"
     ]
    }
   ],
   "source": [
    "def CountFrequency(my_list): \n",
    "      \n",
    "   # Creating an empty dictionary  \n",
    "   count_on_rent = {} \n",
    "   for i in on_rent: \n",
    "    count_on_rent[i] = count_on_rent.get(i, 0) + 1\n",
    "   return count_on_rent \n",
    "  \n",
    "print(CountFrequency(on_rent)) "
   ]
  },
  {
   "cell_type": "code",
   "execution_count": null,
   "metadata": {},
   "outputs": [],
   "source": []
  }
 ],
 "metadata": {
  "kernelspec": {
   "display_name": "Python 3",
   "language": "python",
   "name": "python3"
  },
  "language_info": {
   "codemirror_mode": {
    "name": "ipython",
    "version": 3
   },
   "file_extension": ".py",
   "mimetype": "text/x-python",
   "name": "python",
   "nbconvert_exporter": "python",
   "pygments_lexer": "ipython3",
   "version": "3.8.3"
  }
 },
 "nbformat": 4,
 "nbformat_minor": 4
}
